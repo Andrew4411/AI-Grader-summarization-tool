{
 "cells": [
  {
   "cell_type": "code",
   "execution_count": 37,
   "id": "27c2a960-dee4-40cb-a6a2-07dedf3c101a",
   "metadata": {},
   "outputs": [],
   "source": [
    "from bs4 import BeautifulSoup\n",
    "import glob\n",
    "import os\n",
    "\n",
    "courses_directory = 'nbgrader'\n",
    "#course = \"\"\n",
    "#assignment = \"\"\n",
    "\n",
    "#feedback = os.path.join(courses_directory, course, 'feedback', '*', assignment, '*.html')\n",
    "#feedback\n",
    "\n",
    "def getResult():\n",
    "    return result\n",
    "\n",
    "def setPath(c, a):\n",
    "    course = c\n",
    "    assignment = a\n",
    "    feedback = os.path.join(courses_directory, course, 'feedback', '*', assignment, '*.html')\n",
    "    return feedback\n",
    "    #print(feedback)\n",
    "\n",
    "def fetch(feedback):\n",
    "    feedback_files = glob.glob(feedback)\n",
    "    #feedback_files\n",
    "    if (not feedback_files):\n",
    "        print(\"no feedback to summarize.\")\n",
    "        return\n",
    "    \n",
    "    result = \"\"\n",
    "    for f in feedback_files:\n",
    "        \n",
    "        normalized_path = os.path.normpath(f)\n",
    "        print(normalized_path)\n",
    "        # Split the normalized path into its components\n",
    "        parts = normalized_path.split(os.sep)  # os.sep is the appropriate separator\n",
    "        index = parts.index('feedback')\n",
    "        studentId = parts[index + 1]\n",
    "        \n",
    "        with open(normalized_path, 'r', encoding='utf-8') as file:\n",
    "            html_content = file.read()\n",
    "        \n",
    "        soup = BeautifulSoup(html_content, 'html.parser')\n",
    "        \n",
    "        ph = soup.find('div', class_=\"panel-heading\")\n",
    "        overall = str(ph.find('h4')).split(\"Score:\")[1].split(\")\")[0].strip()\n",
    "        result += (studentId + \"\\n\")\n",
    "        result += (f\"Overall Score: {overall}\\n\")\n",
    "    \n",
    "        qs = ph.find('ol').find_all('li')\n",
    "        count = 1\n",
    "        for q in qs:\n",
    "            href = str(q)[str(q).find('#')+1:str(q).find('\">')]\n",
    "            t = BeautifulSoup(str(q), 'html.parser').get_text()\n",
    "            \n",
    "            if (t == \"Comment\"):\n",
    "                anchor = soup.find('a', attrs={'name': href})\n",
    "                div = anchor.find_parent('div')\n",
    "                comment = BeautifulSoup(str(div.find('div', class_=\"panel-footer\").find('div').get_text()), 'html.parser')\n",
    "                result += (comment.get_text().strip() + \"\\n\")\n",
    "            else:\n",
    "                result += (str(count) + \". \" + t + \"\\n\")\n",
    "                count += 1   \n",
    "            \n",
    "        result += (\"--------------------------\\n\")\n",
    "    return result"
   ]
  },
  {
   "cell_type": "code",
   "execution_count": 52,
   "id": "218b4010-3fba-41b8-a0b3-5f82def4988a",
   "metadata": {},
   "outputs": [
    {
     "data": {
      "application/vnd.jupyter.widget-view+json": {
       "model_id": "62a17d9d0c874cf195eeb55a2649efcd",
       "version_major": 2,
       "version_minor": 0
      },
      "text/plain": [
       "Dropdown(description='Course:', options=('---SELECT COURSE---', 'course', 'newcourse'), value='---SELECT COURS…"
      ]
     },
     "metadata": {},
     "output_type": "display_data"
    },
    {
     "data": {
      "application/vnd.jupyter.widget-view+json": {
       "model_id": "3a70735fa3e14e07ab5290ddb4733519",
       "version_major": 2,
       "version_minor": 0
      },
      "text/plain": [
       "Dropdown(description='Assignment:', options=(), value=None)"
      ]
     },
     "metadata": {},
     "output_type": "display_data"
    },
    {
     "data": {
      "application/vnd.jupyter.widget-view+json": {
       "model_id": "3d3a5d16990143e9bd6d28554c668c2b",
       "version_major": 2,
       "version_minor": 0
      },
      "text/plain": [
       "Button(description='Submit', disabled=True, layout=Layout(margin='0px 0px 0px 90px'), style=ButtonStyle())"
      ]
     },
     "metadata": {},
     "output_type": "display_data"
    },
    {
     "data": {
      "application/vnd.jupyter.widget-view+json": {
       "model_id": "4c4d45e7dfa4441ab6be4d16104e7d82",
       "version_major": 2,
       "version_minor": 0
      },
      "text/plain": [
       "Textarea(value='', description='Output:', disabled=True, layout=Layout(height='300px', width='50%'))"
      ]
     },
     "metadata": {},
     "output_type": "display_data"
    }
   ],
   "source": [
    "import ipywidgets as widgets\n",
    "from IPython.display import display\n",
    "import os\n",
    "\n",
    "courses = [name for name in os.listdir(courses_directory) if os.path.isdir(os.path.join(courses_directory, name))]\n",
    "courses.insert(0, \"---SELECT COURSE---\")\n",
    "\n",
    "course = widgets.Dropdown(\n",
    "    options=courses,\n",
    "    description='Course:',\n",
    "    disabled=False\n",
    ")\n",
    "\n",
    "assignment = widgets.Dropdown(\n",
    "    options=[],\n",
    "    description='Assignment:',\n",
    "    disabled=False\n",
    ")\n",
    "\n",
    "button = widgets.Button(\n",
    "    description='Submit',\n",
    "    layout=widgets.Layout(margin='0px 0px 0px 90px'), \n",
    "    disabled=True\n",
    ")\n",
    "\n",
    "textbox = widgets.Textarea(\n",
    "    description='Output:',\n",
    "    layout=widgets.Layout(width='50%', height='300px'),  # Set width and height\n",
    "    disabled=True\n",
    ")\n",
    "\n",
    "def course_change(change):\n",
    "    selected_course = change['new']\n",
    "    if (selected_course == \"---SELECT COURSE---\"):\n",
    "        assignment.options = []  # Clear options if no assignments exist\n",
    "        assignment.value = None\n",
    "    else:\n",
    "        assignment_path = os.path.join(courses_directory, selected_course, 'source')\n",
    "        if os.path.exists(assignment_path):\n",
    "            assignments = [name for name in os.listdir(assignment_path) if os.path.isdir(os.path.join(assignment_path, name))]\n",
    "            assignment.options = assignments  # Update assignment options\n",
    "            assignment.value = assignments[0]\n",
    "        else:\n",
    "            assignment.options = []  # Clear options if no assignments exist\n",
    "            assignment.value = None\n",
    "\n",
    "def assignment_change(change):\n",
    "    if assignment.value is not None:\n",
    "        button.disabled = False\n",
    "    else:\n",
    "        button.disabled = True\n",
    "\n",
    "def on_button_clicked(b):\n",
    "    f = setPath(course.value, assignment.value)\n",
    "    t = fetch(f)\n",
    "    if (t):\n",
    "        textbox.value = \"Executing...\"\n",
    "        button.disabled = True\n",
    "        %run -i summarize.ipynb\n",
    "        result = summarize(t)\n",
    "        textbox.value = result\n",
    "        button.disabled = False\n",
    "\n",
    "course.observe(course_change, names='value')\n",
    "assignment.observe(assignment_change, names='value')\n",
    "button.on_click(on_button_clicked)\n",
    "\n",
    "display(course, assignment, button, textbox)"
   ]
  },
  {
   "cell_type": "code",
   "execution_count": null,
   "id": "f1a91f5f-2c8e-49fe-b773-2994af7efa24",
   "metadata": {},
   "outputs": [],
   "source": []
  }
 ],
 "metadata": {
  "kernelspec": {
   "display_name": "Python 3 (ipykernel)",
   "language": "python",
   "name": "python3"
  },
  "language_info": {
   "codemirror_mode": {
    "name": "ipython",
    "version": 3
   },
   "file_extension": ".py",
   "mimetype": "text/x-python",
   "name": "python",
   "nbconvert_exporter": "python",
   "pygments_lexer": "ipython3",
   "version": "3.12.3"
  }
 },
 "nbformat": 4,
 "nbformat_minor": 5
}
