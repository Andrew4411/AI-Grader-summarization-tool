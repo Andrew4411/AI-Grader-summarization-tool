{
 "cells": [
  {
   "cell_type": "markdown",
   "id": "940c9eda-01f1-4284-86af-361b1c2318d3",
   "metadata": {},
   "source": [
    "input\n",
    "     Student1   Student2   Student3   Student4 Student5\n",
    "Q1    Correct    Correct    Correct    Correct  Correct\n",
    "Q2  Incorrect  Incorrect  Incorrect  Incorrect  Correct\n",
    "Q3    Correct    Correct    Correct  Incorrect  Correct\n",
    "Q4  Incorrect    Correct  Incorrect  Incorrect  Correct\n",
    "Q5  Incorrect    Correct    Correct  Incorrect  Correct"
   ]
  },
  {
   "cell_type": "code",
   "execution_count": null,
   "id": "789f1e5c-490b-4001-8a76-c31eb05f5eb9",
   "metadata": {},
   "outputs": [],
   "source": [
    "query1\n",
    "\"Return your response as report which covers the statistic of each question for each student and the question that has incorrect answer in common\""
   ]
  },
  {
   "cell_type": "code",
   "execution_count": null,
   "id": "2c566fb4-cdfe-4fa5-914b-ac5ea902ec2b",
   "metadata": {},
   "outputs": [],
   "source": [
    "output1\n",
    "> Finished chain.\n",
    "Content length: 780 chars, 300 tokens.\n",
    "Summary:\n",
    "The common mistake made by all students is on Q2.\n",
    "\n",
    "STATISTICS:\n",
    "- Student1: 3/5 correct, 2/5 incorrect\n",
    "- Student2: 4/5 correct, 1/5 incorrect\n",
    "- Student3: 4/5 correct, 1/5 incorrect\n",
    "- Student4: 3/5 correct, 2/5 incorrect\n",
    "- Student5: 4/5 correct, 1/5 incorrect\n",
    "\n",
    "AVERAGE ACCURACY:\n",
    "The average accuracy for all students is 70%.\n",
    "\n",
    "INDIVIDUAL STATISTICS:\n",
    "- Student1: 70% correct, 30% incorrect\n",
    "- Student2: 80% correct, 20% incorrect\n",
    "- Student3: 80% correct, 20% incorrect\n",
    "- Student4: 60% correct, 40% incorrect\n",
    "- Student5: 80% correct, 20% incorrect\n",
    "\n",
    "QUESTIONS WITH COMMON MISTAKES:\n",
    "- Q2: Incorrect for all students.\n",
    "\n",
    "QUESTIONS WITH INDIVIDUAL MISTAKES:\n",
    "- Q1: Correct for all students.\n",
    "- Q3: Incorrect for Student4.\n",
    "- Q4: Incorrect for Student1 and Student3.\n",
    "- Q5: Incorrect for Student4.\n",
    "\n",
    "\n",
    "CPU times: total: 7min 10s\n",
    "Wall time: 1min 50s"
   ]
  },
  {
   "cell_type": "code",
   "execution_count": null,
   "id": "01557907-ac46-4223-b17a-406b89501b03",
   "metadata": {},
   "outputs": [],
   "source": [
    "query2\n",
    "\"Return your response as report which covers the statistic of each question for each student\""
   ]
  },
  {
   "cell_type": "code",
   "execution_count": null,
   "id": "7eeefa7c-d6ec-4995-b55c-fac1514b47e0",
   "metadata": {},
   "outputs": [],
   "source": [
    "output2\n",
    "> Finished chain.\n",
    "Content length: 749 chars, 242 tokens.\n",
    "Summary:\n",
    "1. Student1 - Correct\n",
    "2. Student2 - Incorrect\n",
    "3. Student3 - Correct\n",
    "4. Student4 - Incorrect\n",
    "5. Student5 - Correct\n",
    "\n",
    "QUESTIONS AND ANSWERS:\n",
    "1. Q1 - Correct (All students)\n",
    "2. Q2 - Incorrect (All students except Student5)\n",
    "3. Q3 - Correct (All students except Student4)\n",
    "4. Q4 - Incorrect (All students except Student2)\n",
    "5. Q5 - Incorrect (All students except Student5)\n",
    "\n",
    "STATISTICS:\n",
    "1. Total Questions: 5\n",
    "2. Total Students: 5\n",
    "3. Total Correct Answers: 4\n",
    "4. Total Incorrect Answers: 1\n",
    "5. Percentage of Correct Answers: 80%\n",
    "6. Percentage of Incorrect Answers: 20%\n",
    "\n",
    "Based on the given information, it can be concluded that all students had a similar performance in answering the questions. The common mistake made by all students is not specified in the text.\n",
    "\n",
    "\n",
    "CPU times: total: 5min 54s\n",
    "Wall time: 1min 30s"
   ]
  },
  {
   "cell_type": "code",
   "execution_count": null,
   "id": "aaf660ba-4b7f-4b3b-b7b5-f7f8d54a60e1",
   "metadata": {},
   "outputs": [],
   "source": [
    "query3\n",
    "\"Return your response as report which covers the statistic of questions for each student\""
   ]
  },
  {
   "cell_type": "code",
   "execution_count": null,
   "id": "5b329e45-c515-403a-8543-e09dc8f49136",
   "metadata": {},
   "outputs": [],
   "source": [
    "output3\n",
    "> Finished chain.\n",
    "Content length: 597 chars, 150 tokens.\n",
    "Summary:\n",
    "\n",
    "1. Student1 - 3 correct answers, 2 incorrect answers\n",
    "2. Student2 - 2 correct answers, 3 incorrect answers\n",
    "3. Student3 - 3 correct answers, 2 incorrect answers\n",
    "4. Student4 - 2 correct answers, 3 incorrect answers\n",
    "5. Student5 - 4 correct answers, 1 incorrect answer\n",
    "\n",
    "The report should be structured as follows:\n",
    "\n",
    "```\n",
    "Student Name    Correct Answers   Incorrect Answers\n",
    "--------------    ------------   -------------\n",
    "Student1         3                2\n",
    "Student2         2                3\n",
    "Student3         3                2\n",
    "Student4         2                3\n",
    "Student5         4                1\n",
    "```\n",
    "\n",
    "\n",
    "CPU times: total: 4min 16s\n",
    "Wall time: 1min 5s"
   ]
  },
  {
   "cell_type": "code",
   "execution_count": null,
   "id": "a218b81a-7373-4c64-b364-a264778cfdf3",
   "metadata": {},
   "outputs": [],
   "source": [
    "query4\n",
    "\"Return your response as report which covers the performance of five students on five questions. Highlight any common mistakes made by the students.\""
   ]
  },
  {
   "cell_type": "code",
   "execution_count": null,
   "id": "3d65a3fe-d9e1-457c-bcb6-b920ac279991",
   "metadata": {},
   "outputs": [],
   "source": [
    "output4\n",
    "> Finished chain.\n",
    "Content length: 384 chars, 106 tokens.\n",
    "Summary:\n",
    "1. Student2 and Student3 both made the mistake of using \"Incorrect\" for Question 3, despite answering correctly.\n",
    "2. Student4 made the same mistake as Student2 and Student3 for Question 5, but answered correctly for other questions.\n",
    "\n",
    "COMMON MISTAKE in Mathematics:\n",
    "1. All students except Student5 made mistakes in Question 2.\n",
    "2. Students 1, 2, 3, and 4 all made mistakes in Question 4.\n",
    "\n",
    "\n",
    "CPU times: total: 3min 35s\n",
    "Wall time: 54.5 s"
   ]
  }
 ],
 "metadata": {
  "kernelspec": {
   "display_name": "Python 3 (ipykernel)",
   "language": "python",
   "name": "python3"
  },
  "language_info": {
   "codemirror_mode": {
    "name": "ipython",
    "version": 3
   },
   "file_extension": ".py",
   "mimetype": "text/x-python",
   "name": "python",
   "nbconvert_exporter": "python",
   "pygments_lexer": "ipython3",
   "version": "3.12.3"
  }
 },
 "nbformat": 4,
 "nbformat_minor": 5
}
