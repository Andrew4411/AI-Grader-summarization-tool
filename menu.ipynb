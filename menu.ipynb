{
 "cells": [
  {
   "cell_type": "code",
   "execution_count": 6,
   "id": "418970a3-d9bd-44af-a853-f63d676f6dda",
   "metadata": {},
   "outputs": [
    {
     "data": {
      "application/vnd.jupyter.widget-view+json": {
       "model_id": "004ce0a290b44a65a5b6f35ecf08a26a",
       "version_major": 2,
       "version_minor": 0
      },
      "text/plain": [
       "Box(children=(HTML(value='<h1>Ai Summarize Menu</h1>'), Button(description='Student', style=ButtonStyle()), Bu…"
      ]
     },
     "metadata": {},
     "output_type": "display_data"
    }
   ],
   "source": [
    "import ipywidgets as widgets\n",
    "from IPython.display import display\n",
    "import subprocess\n",
    "import psutil\n",
    "import threading\n",
    "import time\n",
    "\n",
    "def open_notebook(s):\n",
    "    subprocess.Popen(['voila', s])\n",
    "\n",
    "def on_teacher_clicked(b):\n",
    "    open_notebook(\"teacher.ipynb\")\n",
    "\n",
    "def on_student_clicked(b):\n",
    "    open_notebook(\"student.ipynb\")\n",
    "\n",
    "def on_terminate_clicked(b):\n",
    "    selected = listbox.value\n",
    "    if selected:\n",
    "        pid = int(selected.split(':')[0])  # Extract PID from the selected option\n",
    "        try:\n",
    "            process = psutil.Process(pid)\n",
    "            process.terminate()  # Terminate the process\n",
    "            print(f\"Terminated process: {selected}\")\n",
    "        except (psutil.NoSuchProcess, psutil.AccessDenied) as e:\n",
    "            print(f\"Error terminating process: {e}\")\n",
    "\n",
    "def get_python_processes_by_ports(port_range):\n",
    "    processes = []\n",
    "    for proc in psutil.process_iter(['pid', 'name']):\n",
    "        try:\n",
    "            if proc.info['name'] == 'python.exe':  # Filter for python.exe\n",
    "                for conn in proc.net_connections(kind='inet'):\n",
    "                    if conn.laddr.port in port_range:\n",
    "                        processes.append(f\"{proc.info['pid']}: {proc.info['name']} (Port: {conn.laddr.port})\")\n",
    "                        break  # No need to check other connections for this process\n",
    "        except (psutil.NoSuchProcess, psutil.AccessDenied):\n",
    "            continue\n",
    "    return processes\n",
    "\n",
    "# Function to update the listbox periodically\n",
    "def update_listbox():\n",
    "    port_range = range(8866, 8878)  # Ports 8866 to 8877\n",
    "    while True:\n",
    "        # Get the updated list of python.exe processes using specified ports\n",
    "        running_processes = get_python_processes_by_ports(port_range)\n",
    "        listbox.options = running_processes\n",
    "        time.sleep(2)  # Update every 2 seconds\n",
    "\n",
    "text = widgets.HTML(\n",
    "    value = \"<h1>Ai Summarize Menu</h1>\"\n",
    ")\n",
    "\n",
    "student = widgets.Button(\n",
    "    description = \"Student\"\n",
    ")\n",
    "\n",
    "teacher = widgets.Button(\n",
    "    description = \"Teacher\"\n",
    ")\n",
    "\n",
    "listbox = widgets.Select(\n",
    "    description='Running:',\n",
    "    size=10\n",
    ")\n",
    "\n",
    "terminate = widgets.Button(\n",
    "    description = \"Terminate Process\"\n",
    ")\n",
    "\n",
    "box_layout = widgets.Layout(display='flex',\n",
    "                    flex_flow='column', \n",
    "                    align_items='center',\n",
    "                    justify_content='center',\n",
    "                    width='100%',\n",
    "                    height='100%',\n",
    "                    margin='250px 0px 0px 0px')\n",
    "\n",
    "box = widgets.Box(children=[text, student, teacher, listbox, terminate], layout=box_layout)\n",
    "\n",
    "teacher.on_click(on_teacher_clicked)\n",
    "student.on_click(on_student_clicked)\n",
    "terminate.on_click(on_terminate_clicked)\n",
    "thread = threading.Thread(target=update_listbox, daemon=True)\n",
    "thread.start()\n",
    "\n",
    "display(box)"
   ]
  },
  {
   "cell_type": "code",
   "execution_count": null,
   "id": "c2996afc-8e5d-49b9-8658-b041f25452c5",
   "metadata": {},
   "outputs": [],
   "source": []
  }
 ],
 "metadata": {
  "kernelspec": {
   "display_name": "Python 3 (ipykernel)",
   "language": "python",
   "name": "python3"
  },
  "language_info": {
   "codemirror_mode": {
    "name": "ipython",
    "version": 3
   },
   "file_extension": ".py",
   "mimetype": "text/x-python",
   "name": "python",
   "nbconvert_exporter": "python",
   "pygments_lexer": "ipython3",
   "version": "3.12.3"
  }
 },
 "nbformat": 4,
 "nbformat_minor": 5
}
