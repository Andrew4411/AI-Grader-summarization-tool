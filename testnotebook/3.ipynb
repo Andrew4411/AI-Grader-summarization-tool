{
 "cells": [
  {
   "cell_type": "markdown",
   "id": "cb53512b-3f15-4ca8-9218-68a32ba39c16",
   "metadata": {},
   "source": [
    "Q1 "
   ]
  },
  {
   "cell_type": "markdown",
   "id": "e2a20396-e7b7-4ef9-94d8-79b75a7cc73e",
   "metadata": {},
   "source": [
    "Correct"
   ]
  },
  {
   "cell_type": "markdown",
   "id": "0c5aa269-cab2-4f69-be99-18e33e0e7be5",
   "metadata": {},
   "source": [
    "Q2"
   ]
  },
  {
   "cell_type": "markdown",
   "id": "10ae9428-89ac-494f-9b43-ddfc3c7c718b",
   "metadata": {},
   "source": [
    "Incorrect"
   ]
  },
  {
   "cell_type": "markdown",
   "id": "3b195e67-e845-4959-8634-88043f68b6b0",
   "metadata": {},
   "source": [
    "Q3"
   ]
  },
  {
   "cell_type": "markdown",
   "id": "7ed92865-215b-48d8-8d15-18c51d7a04ed",
   "metadata": {},
   "source": [
    "Correct"
   ]
  },
  {
   "cell_type": "markdown",
   "id": "97767926-e453-4e2f-9612-5920f1957d68",
   "metadata": {},
   "source": [
    "Q4"
   ]
  },
  {
   "cell_type": "markdown",
   "id": "c1e8cee0-d4f0-46ab-86ef-7d5db58c8179",
   "metadata": {},
   "source": [
    "Incorrect"
   ]
  },
  {
   "cell_type": "markdown",
   "id": "215fc05a-e2b7-4654-b358-7d634a6a3375",
   "metadata": {},
   "source": [
    "Q5"
   ]
  },
  {
   "cell_type": "markdown",
   "id": "357b30ed-9ce8-4a0b-b31b-430ff9a094e2",
   "metadata": {},
   "source": [
    "Correct"
   ]
  }
 ],
 "metadata": {
  "kernelspec": {
   "display_name": "Python 3 (ipykernel)",
   "language": "python",
   "name": "python3"
  },
  "language_info": {
   "codemirror_mode": {
    "name": "ipython",
    "version": 3
   },
   "file_extension": ".py",
   "mimetype": "text/x-python",
   "name": "python",
   "nbconvert_exporter": "python",
   "pygments_lexer": "ipython3",
   "version": "3.12.3"
  }
 },
 "nbformat": 4,
 "nbformat_minor": 5
}
