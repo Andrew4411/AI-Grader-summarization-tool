{
 "cells": [
  {
   "cell_type": "markdown",
   "id": "79ef937c-c7e2-45c1-b01f-a103e16a9382",
   "metadata": {},
   "source": [
    "Q1 "
   ]
  },
  {
   "cell_type": "markdown",
   "id": "c73f5a4a-ccb8-42ff-b83a-773151b63826",
   "metadata": {},
   "source": [
    "Correct"
   ]
  },
  {
   "cell_type": "markdown",
   "id": "7928a8d7-51b8-48de-9dfe-eebed6ff4606",
   "metadata": {},
   "source": [
    "Q2"
   ]
  },
  {
   "cell_type": "markdown",
   "id": "c5ea76b3-a43b-4eb5-b8d4-9402d810b16f",
   "metadata": {},
   "source": [
    "Incorrect"
   ]
  },
  {
   "cell_type": "markdown",
   "id": "c1286dc6-6d0e-4bfd-8a15-2d657943670e",
   "metadata": {},
   "source": [
    "Q3"
   ]
  },
  {
   "cell_type": "markdown",
   "id": "d3e2d217-21bb-4db3-bd3b-474c08db6593",
   "metadata": {},
   "source": [
    "Correct"
   ]
  },
  {
   "cell_type": "markdown",
   "id": "a2aee2a1-6ffa-4ae1-86e7-00f600d67de5",
   "metadata": {},
   "source": [
    "Q4"
   ]
  },
  {
   "cell_type": "markdown",
   "id": "92f7780b-4210-493a-9533-fbda9b65e86e",
   "metadata": {},
   "source": [
    "Correct"
   ]
  },
  {
   "cell_type": "markdown",
   "id": "22452c64-0b50-478b-acb7-a42500edb2b3",
   "metadata": {},
   "source": [
    "Q5"
   ]
  },
  {
   "cell_type": "markdown",
   "id": "a762bb47-4eba-4662-be7b-58b51dfb7049",
   "metadata": {},
   "source": [
    "Correct"
   ]
  }
 ],
 "metadata": {
  "kernelspec": {
   "display_name": "Python 3 (ipykernel)",
   "language": "python",
   "name": "python3"
  },
  "language_info": {
   "codemirror_mode": {
    "name": "ipython",
    "version": 3
   },
   "file_extension": ".py",
   "mimetype": "text/x-python",
   "name": "python",
   "nbconvert_exporter": "python",
   "pygments_lexer": "ipython3",
   "version": "3.12.3"
  }
 },
 "nbformat": 4,
 "nbformat_minor": 5
}
