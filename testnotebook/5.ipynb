{
 "cells": [
  {
   "cell_type": "markdown",
   "id": "c603d090-4550-40a2-9722-adda4ff39a80",
   "metadata": {},
   "source": [
    "Q1 "
   ]
  },
  {
   "cell_type": "markdown",
   "id": "1bc97623-ccbc-418b-8a82-2c9b3ddda7fa",
   "metadata": {},
   "source": [
    "Correct"
   ]
  },
  {
   "cell_type": "markdown",
   "id": "0a435b6c-fe2b-4f45-b987-7202f19e5b02",
   "metadata": {},
   "source": [
    "Q2"
   ]
  },
  {
   "cell_type": "markdown",
   "id": "8e51ab40-6096-49a2-9101-08f2e2e4c9a7",
   "metadata": {},
   "source": [
    "Correct"
   ]
  },
  {
   "cell_type": "markdown",
   "id": "e30106c6-1a82-4eae-920a-a6a2024f11c4",
   "metadata": {},
   "source": [
    "Q3"
   ]
  },
  {
   "cell_type": "markdown",
   "id": "f62baac0-cbb9-415c-a765-7c5b20553574",
   "metadata": {},
   "source": [
    "Correct"
   ]
  },
  {
   "cell_type": "markdown",
   "id": "0b5ef8ea-1b2d-4023-ba26-518dc823ff83",
   "metadata": {},
   "source": [
    "Q4"
   ]
  },
  {
   "cell_type": "markdown",
   "id": "524caa2a-009f-4cb7-83a0-a74c75743285",
   "metadata": {},
   "source": [
    "Correct"
   ]
  },
  {
   "cell_type": "markdown",
   "id": "1fe39793-270d-4866-9945-10623ab050fc",
   "metadata": {},
   "source": [
    "Q5"
   ]
  },
  {
   "cell_type": "markdown",
   "id": "467528d3-f2e9-485c-a2c3-1861b256d04c",
   "metadata": {},
   "source": [
    "Correct"
   ]
  }
 ],
 "metadata": {
  "kernelspec": {
   "display_name": "Python 3 (ipykernel)",
   "language": "python",
   "name": "python3"
  },
  "language_info": {
   "codemirror_mode": {
    "name": "ipython",
    "version": 3
   },
   "file_extension": ".py",
   "mimetype": "text/x-python",
   "name": "python",
   "nbconvert_exporter": "python",
   "pygments_lexer": "ipython3",
   "version": "3.12.3"
  }
 },
 "nbformat": 4,
 "nbformat_minor": 5
}
