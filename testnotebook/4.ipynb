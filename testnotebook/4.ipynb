{
 "cells": [
  {
   "cell_type": "markdown",
   "id": "f97487a4-9c3f-4bbd-b87a-dccbd9f3c3fd",
   "metadata": {},
   "source": [
    "Q1 "
   ]
  },
  {
   "cell_type": "markdown",
   "id": "edae9e7e-f9d7-45e8-8d75-667fc4e13016",
   "metadata": {},
   "source": [
    "Correct"
   ]
  },
  {
   "cell_type": "markdown",
   "id": "ec3c506e-f8ff-4180-88b2-3a6642bf0e4f",
   "metadata": {},
   "source": [
    "Q2"
   ]
  },
  {
   "cell_type": "markdown",
   "id": "3962d3e5-60d1-45d8-b694-79c50b5a1cdb",
   "metadata": {},
   "source": [
    "Incorrect"
   ]
  },
  {
   "cell_type": "markdown",
   "id": "8f39cae1-9f3c-4ff7-a6cd-0ee70415ab96",
   "metadata": {},
   "source": [
    "Q3"
   ]
  },
  {
   "cell_type": "markdown",
   "id": "9f1a17c4-518c-4c69-9fb0-33335f25d88a",
   "metadata": {},
   "source": [
    "Incorrect"
   ]
  },
  {
   "cell_type": "markdown",
   "id": "4177ff55-ffdd-4192-a7ac-bb047405b17d",
   "metadata": {},
   "source": [
    "Q4"
   ]
  },
  {
   "cell_type": "markdown",
   "id": "5cab93f7-66a1-4b1e-94e1-bb84ee944af4",
   "metadata": {},
   "source": [
    "Incorrect"
   ]
  },
  {
   "cell_type": "markdown",
   "id": "ff6e222d-a9a6-47cc-9087-314e8c38683f",
   "metadata": {},
   "source": [
    "Q5"
   ]
  },
  {
   "cell_type": "markdown",
   "id": "eb2836ef-2417-4005-bff8-0f9173a3793f",
   "metadata": {},
   "source": [
    "Incorrect"
   ]
  }
 ],
 "metadata": {
  "kernelspec": {
   "display_name": "Python 3 (ipykernel)",
   "language": "python",
   "name": "python3"
  },
  "language_info": {
   "codemirror_mode": {
    "name": "ipython",
    "version": 3
   },
   "file_extension": ".py",
   "mimetype": "text/x-python",
   "name": "python",
   "nbconvert_exporter": "python",
   "pygments_lexer": "ipython3",
   "version": "3.12.3"
  }
 },
 "nbformat": 4,
 "nbformat_minor": 5
}
