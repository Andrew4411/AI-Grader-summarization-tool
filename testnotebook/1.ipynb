{
 "cells": [
  {
   "cell_type": "markdown",
   "id": "8a07a179-54df-47f9-ab6f-c022f2657e7f",
   "metadata": {},
   "source": [
    "Q1 "
   ]
  },
  {
   "cell_type": "markdown",
   "id": "96711ac7-b6b6-4253-be30-ff740f91163f",
   "metadata": {},
   "source": [
    "Correct"
   ]
  },
  {
   "cell_type": "markdown",
   "id": "a254d6aa-e26b-4f5a-9682-8e3ca61740b6",
   "metadata": {},
   "source": [
    "Q2"
   ]
  },
  {
   "cell_type": "markdown",
   "id": "0f8ab64c-7973-417b-a46c-ca441a9d68e3",
   "metadata": {},
   "source": [
    "Incorrect"
   ]
  },
  {
   "cell_type": "markdown",
   "id": "a5392f15-6c8c-49ac-bb10-72378eb9c25e",
   "metadata": {},
   "source": [
    "Q3"
   ]
  },
  {
   "cell_type": "markdown",
   "id": "f6b753f3-d240-4c3c-983f-160cf8cbcdef",
   "metadata": {},
   "source": [
    "Correct"
   ]
  },
  {
   "cell_type": "markdown",
   "id": "3070edf0-0b91-44cf-a7ce-0ff77cf584a3",
   "metadata": {},
   "source": [
    "Q4"
   ]
  },
  {
   "cell_type": "markdown",
   "id": "54c3972c-d850-4148-9b37-f0a2d884883c",
   "metadata": {},
   "source": [
    "Incorrect"
   ]
  },
  {
   "cell_type": "markdown",
   "id": "8522bb7b-711c-4648-9a82-113c2c9715ee",
   "metadata": {},
   "source": [
    "Q5"
   ]
  },
  {
   "cell_type": "markdown",
   "id": "37f4575c-1d11-467b-951e-9c6a96e54061",
   "metadata": {},
   "source": [
    "Incorrect"
   ]
  }
 ],
 "metadata": {
  "kernelspec": {
   "display_name": "Python 3 (ipykernel)",
   "language": "python",
   "name": "python3"
  },
  "language_info": {
   "codemirror_mode": {
    "name": "ipython",
    "version": 3
   },
   "file_extension": ".py",
   "mimetype": "text/x-python",
   "name": "python",
   "nbconvert_exporter": "python",
   "pygments_lexer": "ipython3",
   "version": "3.12.3"
  }
 },
 "nbformat": 4,
 "nbformat_minor": 5
}
